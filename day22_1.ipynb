{
 "cells": [
  {
   "cell_type": "code",
   "execution_count": 5,
   "metadata": {},
   "outputs": [
    {
     "name": "stderr",
     "output_type": "stream",
     "text": [
      "C:\\Users\\Edgars\\AppData\\Local\\Temp\\ipykernel_3548\\781600563.py:3: DeprecationWarning: firefox_profile has been deprecated, please pass in an Options object\n",
      "  browser = webdriver.Firefox(r'geckodriver.exe')\n"
     ]
    },
    {
     "ename": "NotADirectoryError",
     "evalue": "[WinError 267] Direktorija nosaukums nav derīgs: 'geckodriver.exe'",
     "output_type": "error",
     "traceback": [
      "\u001b[1;31m---------------------------------------------------------------------------\u001b[0m",
      "\u001b[1;31mNotADirectoryError\u001b[0m                        Traceback (most recent call last)",
      "\u001b[1;32mc:\\Users\\Edgars\\Desktop\\dg_goes\\day22_1.ipynb Cell 1\u001b[0m in \u001b[0;36m<cell line: 3>\u001b[1;34m()\u001b[0m\n\u001b[0;32m      <a href='vscode-notebook-cell:/c%3A/Users/Edgars/Desktop/dg_goes/day22_1.ipynb#W0sZmlsZQ%3D%3D?line=0'>1</a>\u001b[0m \u001b[39mfrom\u001b[39;00m \u001b[39mselenium\u001b[39;00m \u001b[39mimport\u001b[39;00m webdriver\n\u001b[1;32m----> <a href='vscode-notebook-cell:/c%3A/Users/Edgars/Desktop/dg_goes/day22_1.ipynb#W0sZmlsZQ%3D%3D?line=2'>3</a>\u001b[0m browser \u001b[39m=\u001b[39m webdriver\u001b[39m.\u001b[39;49mFirefox(\u001b[39mr\u001b[39;49m\u001b[39m'\u001b[39;49m\u001b[39mgeckodriver.exe\u001b[39;49m\u001b[39m'\u001b[39;49m)\n\u001b[0;32m      <a href='vscode-notebook-cell:/c%3A/Users/Edgars/Desktop/dg_goes/day22_1.ipynb#W0sZmlsZQ%3D%3D?line=4'>5</a>\u001b[0m browser\u001b[39m.\u001b[39mget(\u001b[39m'\u001b[39m\u001b[39mhttps://www.python.org/\u001b[39m\u001b[39m'\u001b[39m)\n",
      "File \u001b[1;32mc:\\Users\\Edgars\\AppData\\Local\\Programs\\Python\\Python310\\lib\\site-packages\\selenium\\webdriver\\firefox\\webdriver.py:160\u001b[0m, in \u001b[0;36mWebDriver.__init__\u001b[1;34m(self, firefox_profile, firefox_binary, capabilities, proxy, executable_path, options, service_log_path, service_args, service, desired_capabilities, log_path, keep_alive)\u001b[0m\n\u001b[0;32m    158\u001b[0m \u001b[39mif\u001b[39;00m firefox_profile:\n\u001b[0;32m    159\u001b[0m     \u001b[39mif\u001b[39;00m \u001b[39misinstance\u001b[39m(firefox_profile, \u001b[39mstr\u001b[39m):\n\u001b[1;32m--> 160\u001b[0m         firefox_profile \u001b[39m=\u001b[39m FirefoxProfile(firefox_profile)\n\u001b[0;32m    161\u001b[0m     \u001b[39mself\u001b[39m\u001b[39m.\u001b[39mprofile \u001b[39m=\u001b[39m firefox_profile\n\u001b[0;32m    162\u001b[0m     options\u001b[39m.\u001b[39mprofile \u001b[39m=\u001b[39m firefox_profile\n",
      "File \u001b[1;32mc:\\Users\\Edgars\\AppData\\Local\\Programs\\Python\\Python310\\lib\\site-packages\\selenium\\webdriver\\firefox\\firefox_profile.py:74\u001b[0m, in \u001b[0;36mFirefoxProfile.__init__\u001b[1;34m(self, profile_directory)\u001b[0m\n\u001b[0;32m     72\u001b[0m \u001b[39mself\u001b[39m\u001b[39m.\u001b[39mtempfolder \u001b[39m=\u001b[39m tempfile\u001b[39m.\u001b[39mmkdtemp()\n\u001b[0;32m     73\u001b[0m newprof \u001b[39m=\u001b[39m os\u001b[39m.\u001b[39mpath\u001b[39m.\u001b[39mjoin(\u001b[39mself\u001b[39m\u001b[39m.\u001b[39mtempfolder, \u001b[39m\"\u001b[39m\u001b[39mwebdriver-py-profilecopy\u001b[39m\u001b[39m\"\u001b[39m)\n\u001b[1;32m---> 74\u001b[0m shutil\u001b[39m.\u001b[39;49mcopytree(\u001b[39mself\u001b[39;49m\u001b[39m.\u001b[39;49mprofile_dir, newprof,\n\u001b[0;32m     75\u001b[0m                 ignore\u001b[39m=\u001b[39;49mshutil\u001b[39m.\u001b[39;49mignore_patterns(\u001b[39m\"\u001b[39;49m\u001b[39mparent.lock\u001b[39;49m\u001b[39m\"\u001b[39;49m, \u001b[39m\"\u001b[39;49m\u001b[39mlock\u001b[39;49m\u001b[39m\"\u001b[39;49m, \u001b[39m\"\u001b[39;49m\u001b[39m.parentlock\u001b[39;49m\u001b[39m\"\u001b[39;49m))\n\u001b[0;32m     76\u001b[0m \u001b[39mself\u001b[39m\u001b[39m.\u001b[39mprofile_dir \u001b[39m=\u001b[39m newprof\n\u001b[0;32m     77\u001b[0m os\u001b[39m.\u001b[39mchmod(\u001b[39mself\u001b[39m\u001b[39m.\u001b[39mprofile_dir, \u001b[39m0o755\u001b[39m)\n",
      "File \u001b[1;32mc:\\Users\\Edgars\\AppData\\Local\\Programs\\Python\\Python310\\lib\\shutil.py:556\u001b[0m, in \u001b[0;36mcopytree\u001b[1;34m(src, dst, symlinks, ignore, copy_function, ignore_dangling_symlinks, dirs_exist_ok)\u001b[0m\n\u001b[0;32m    517\u001b[0m \u001b[39m\"\"\"Recursively copy a directory tree and return the destination directory.\u001b[39;00m\n\u001b[0;32m    518\u001b[0m \n\u001b[0;32m    519\u001b[0m \u001b[39mIf exception(s) occur, an Error is raised with a list of reasons.\u001b[39;00m\n\u001b[1;32m   (...)\u001b[0m\n\u001b[0;32m    553\u001b[0m \u001b[39m`src` tree.\u001b[39;00m\n\u001b[0;32m    554\u001b[0m \u001b[39m\"\"\"\u001b[39;00m\n\u001b[0;32m    555\u001b[0m sys\u001b[39m.\u001b[39maudit(\u001b[39m\"\u001b[39m\u001b[39mshutil.copytree\u001b[39m\u001b[39m\"\u001b[39m, src, dst)\n\u001b[1;32m--> 556\u001b[0m \u001b[39mwith\u001b[39;00m os\u001b[39m.\u001b[39;49mscandir(src) \u001b[39mas\u001b[39;00m itr:\n\u001b[0;32m    557\u001b[0m     entries \u001b[39m=\u001b[39m \u001b[39mlist\u001b[39m(itr)\n\u001b[0;32m    558\u001b[0m \u001b[39mreturn\u001b[39;00m _copytree(entries\u001b[39m=\u001b[39mentries, src\u001b[39m=\u001b[39msrc, dst\u001b[39m=\u001b[39mdst, symlinks\u001b[39m=\u001b[39msymlinks,\n\u001b[0;32m    559\u001b[0m                  ignore\u001b[39m=\u001b[39mignore, copy_function\u001b[39m=\u001b[39mcopy_function,\n\u001b[0;32m    560\u001b[0m                  ignore_dangling_symlinks\u001b[39m=\u001b[39mignore_dangling_symlinks,\n\u001b[0;32m    561\u001b[0m                  dirs_exist_ok\u001b[39m=\u001b[39mdirs_exist_ok)\n",
      "\u001b[1;31mNotADirectoryError\u001b[0m: [WinError 267] Direktorija nosaukums nav derīgs: 'geckodriver.exe'"
     ]
    }
   ],
   "source": [
    "from selenium import webdriver\n",
    "\n",
    "browser = webdriver.Firefox(r'\\\\geckodriver.exe')\n",
    "\n",
    "browser.get('https://www.python.org/')"
   ]
  }
 ],
 "metadata": {
  "kernelspec": {
   "display_name": "Python 3.10.5 64-bit",
   "language": "python",
   "name": "python3"
  },
  "language_info": {
   "codemirror_mode": {
    "name": "ipython",
    "version": 3
   },
   "file_extension": ".py",
   "mimetype": "text/x-python",
   "name": "python",
   "nbconvert_exporter": "python",
   "pygments_lexer": "ipython3",
   "version": "3.10.5"
  },
  "orig_nbformat": 4,
  "vscode": {
   "interpreter": {
    "hash": "d0f5effb6fc483133823ee2c0dbd3e78107e4de38c93c1b458a35cf01eaa65fb"
   }
  }
 },
 "nbformat": 4,
 "nbformat_minor": 2
}
