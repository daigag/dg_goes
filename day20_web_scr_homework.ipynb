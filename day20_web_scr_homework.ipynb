{
 "cells": [
  {
   "cell_type": "code",
   "execution_count": 276,
   "metadata": {},
   "outputs": [],
   "source": [
    "import requests\n",
    "import time\n",
    "import pandas as pd\n",
    "import csv\n",
    "from bs4 import BeautifulSoup"
   ]
  },
  {
   "cell_type": "code",
   "execution_count": 277,
   "metadata": {},
   "outputs": [
    {
     "data": {
      "text/plain": [
       "'http://www.infomontessori.com/practical-life/introduction.htm'"
      ]
     },
     "execution_count": 277,
     "metadata": {},
     "output_type": "execute_result"
    }
   ],
   "source": [
    "url = \"http://www.infomontessori.com/practical-life/introduction.htm\"\n",
    "url"
   ]
  },
  {
   "cell_type": "code",
   "execution_count": 278,
   "metadata": {},
   "outputs": [],
   "source": [
    "outfile = open(\"montessori.csv\", \"w\", newline='')\n",
    "writer = csv.writer(outfile)"
   ]
  },
  {
   "cell_type": "code",
   "execution_count": 279,
   "metadata": {},
   "outputs": [
    {
     "data": {
      "text/plain": [
       "200"
      ]
     },
     "execution_count": 279,
     "metadata": {},
     "output_type": "execute_result"
    }
   ],
   "source": [
    "req= requests.get(url)\n",
    "req.status_code"
   ]
  },
  {
   "cell_type": "code",
   "execution_count": 280,
   "metadata": {},
   "outputs": [],
   "source": [
    "soup = BeautifulSoup(req.text[5430:17000], 'lxml')\n",
    "soup.title"
   ]
  },
  {
   "cell_type": "code",
   "execution_count": 281,
   "metadata": {},
   "outputs": [
    {
     "data": {
      "text/plain": [
       "\"Introduction.Preliminary Exercises.Carrying a Mat.Unrolling/Rolling a Mat.Carrying a Chair.Sit and Stand from a Chair.Carrying a Table.Carrying a Tray.Carrying a Jug.Geometric Cabinet Tray.Carrying a Sharp object.Opening a Door.Removing a Book.Opening a Book.Turning pages of a Book.Opening Bottles.Opening Boxes.Folding Cloths.Spooning Grains.Pouring Grains.Care of the Person.Washing Hands.Dressing Frame.Button.Snaps.Hook and Eye.Zipper.Buckle.Bow.Lacing.Safety Pins.Polishing Shoes.Preparing a Snack.Care of The Environment.Washing a Chalkboard.Dusting a Table.Washing a Table.Polishing Wood.Polishing Glass.Arranging Flowers.Washing Cloths.Setting a Table.Sweeping.Wet Mopping.Dust Mopping.Outdoor Sweeping.Grace and Courtesy.Introduction.Greeting a Person.Thank You.Excuse Me.Introduction of One's Self.Yawning.Coughing.Interupting.Offering Help.Expressing Admiration.Control of Movement.Walking on the Line.Silence Game\""
      ]
     },
     "execution_count": 281,
     "metadata": {},
     "output_type": "execute_result"
    }
   ],
   "source": [
    "headlines = soup.getText('.', {'class': 'right_menu1'})\n",
    "headlines\n"
   ]
  },
  {
   "cell_type": "code",
   "execution_count": 282,
   "metadata": {},
   "outputs": [],
   "source": [
    "lst = tuple(map(str, headlines.split('.')))\n",
    "\n",
    "df = pd.DataFrame(lst)\n",
    "df\n",
    "\n",
    "df.to_csv('montessori.csv', index=False)\n"
   ]
  }
 ],
 "metadata": {
  "kernelspec": {
   "display_name": "Python 3.10.5 64-bit",
   "language": "python",
   "name": "python3"
  },
  "language_info": {
   "codemirror_mode": {
    "name": "ipython",
    "version": 3
   },
   "file_extension": ".py",
   "mimetype": "text/x-python",
   "name": "python",
   "nbconvert_exporter": "python",
   "pygments_lexer": "ipython3",
   "version": "3.10.5"
  },
  "orig_nbformat": 4,
  "vscode": {
   "interpreter": {
    "hash": "d0f5effb6fc483133823ee2c0dbd3e78107e4de38c93c1b458a35cf01eaa65fb"
   }
  }
 },
 "nbformat": 4,
 "nbformat_minor": 2
}
